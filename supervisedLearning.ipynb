{
 "cells": [
  {
   "cell_type": "code",
   "execution_count": null,
   "metadata": {
    "collapsed": true
   },
   "outputs": [],
   "source": [
    "from sklearn.cross_validation import train_test_split\n",
    "from sklearn.ensemble import RandomForestClassifier\n",
    "from sklearn.metrics import classification_report\n",
    "from sklearn.metrics import mean_squared_error, r2_score\n",
    "import sklearn as sk\n",
    "\n",
    "\n",
    "features = [[1,3,4,5],[2,67,1,4],[3423,8675,3123,554],[33,67,885,23],[313,367,88512,1223]]\n",
    "\n",
    "# classification = [[1],[0],[1],[0]]\n",
    "classification = [ 1,0,1,1,0]\n",
    "\n",
    "\n",
    "features_train, features_test, classification_train, classification_test = train_test_split(features,classification,test_size=0.25,random_state=0)\n",
    "classifier = RandomForestClassifier(n_estimators=200)\n",
    "\n",
    "classifier = classifier.fit(features_train,classification_train)\n",
    "class_prediction = classifier.predict(features_test)\n",
    "\n",
    "print(\"error mse\")\n",
    "print(mean_squared_error(classification_test,class_prediction))\n",
    "print(\"variance score: 1 is perfect prediction\")\n",
    "print(r2_score(classification_test,class_prediction))\n",
    "\n",
    "print(classification_report(classification_test,class_prediction))\n",
    "\n",
    "\n"
   ]
  }
 ],
 "metadata": {
  "kernelspec": {
   "display_name": "Python 2",
   "language": "python",
   "name": "python2"
  },
  "language_info": {
   "codemirror_mode": {
    "name": "ipython",
    "version": 2
   },
   "file_extension": ".py",
   "mimetype": "text/x-python",
   "name": "python",
   "nbconvert_exporter": "python",
   "pygments_lexer": "ipython2",
   "version": "2.7.6"
  }
 },
 "nbformat": 4,
 "nbformat_minor": 0
}
