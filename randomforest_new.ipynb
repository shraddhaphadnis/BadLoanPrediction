{
 "cells": [
  {
   "cell_type": "code",
   "execution_count": 1,
   "metadata": {},
   "outputs": [
    {
     "name": "stderr",
     "output_type": "stream",
     "text": [
      "C:\\Users\\shrad\\Anaconda2\\lib\\site-packages\\sklearn\\cross_validation.py:41: DeprecationWarning: This module was deprecated in version 0.18 in favor of the model_selection module into which all the refactored classes and functions are moved. Also note that the interface of the new CV iterators are different from that of this module. This module will be removed in 0.20.\n",
      "  \"This module will be removed in 0.20.\", DeprecationWarning)\n"
     ]
    }
   ],
   "source": [
    "import pandas as pd\n",
    "import numpy as np\n",
    "from sklearn.metrics import classification_report\n",
    "from sklearn.metrics import confusion_matrix\n",
    "from sklearn.metrics import roc_auc_score\n",
    "from sklearn.metrics import roc_curve\n",
    "from sklearn.cross_validation import train_test_split\n",
    "from sklearn.ensemble import RandomForestClassifier, RandomForestRegressor"
   ]
  },
  {
   "cell_type": "code",
   "execution_count": 2,
   "metadata": {
    "collapsed": true
   },
   "outputs": [],
   "source": [
    "acq_data = ['Id', 'chan','Name', 'IntRate', 'UnpaidPrinciple', 'LoanDur', 'date_1', 'Payment_one', 'LTV', 'CLTV',\n",
    "           'Borrow', 'DTI', 'credit_score', 'homeloan','loanreason', 'prop_type', 'No_units', 'status', 'state','address',\n",
    "           'Mortgage','type','creditscore1', 'Mortgagetype','Mort'];\n",
    "\n",
    "\n",
    "perf_data = ['Id','month','col3','curintrate','col5','Age','maturity_date','remaining_time','col9','col10','col11','flag','col13',\n",
    "            'date','lastpaymentdate','closureDate','col17','col18','col19','col20','col21','col22','col23','col24','col25',\n",
    "            'col26','col27','col28','col29','col30']"
   ]
  },
  {
   "cell_type": "code",
   "execution_count": 3,
   "metadata": {
    "collapsed": true
   },
   "outputs": [],
   "source": [
    "processed_acq = pd.read_csv('2000Q1'+'/Acquisition_2000Q1.txt', sep = '|',names = acq_data,index_col=False)\n",
    "processed_per = pd.read_csv('2000Q1'+'/Performance_2000Q1.txt',sep = '|', names = perf_data, usecols=[0, 15], index_col=False)"
   ]
  },
  {
   "cell_type": "code",
   "execution_count": 4,
   "metadata": {
    "collapsed": true
   },
   "outputs": [],
   "source": [
    "processed_per.drop_duplicates(subset='Id', keep='last', inplace=True)\n",
    "new_data = pd.merge(processed_acq, processed_per, on='Id', how='inner')"
   ]
  },
  {
   "cell_type": "code",
   "execution_count": 5,
   "metadata": {
    "collapsed": true
   },
   "outputs": [],
   "source": [
    "# new_data = "
   ]
  },
  {
   "cell_type": "code",
   "execution_count": 6,
   "metadata": {
    "collapsed": true
   },
   "outputs": [],
   "source": [
    "new_data['closureDate'].fillna(0,inplace=True)\n",
    "new_data.loc[new_data['closureDate'] != 0, 'closureDate'] = 1"
   ]
  },
  {
   "cell_type": "code",
   "execution_count": 7,
   "metadata": {
    "collapsed": true
   },
   "outputs": [],
   "source": [
    "new_data['closureDate'] = new_data['closureDate'].astype(int)\n"
   ]
  },
  {
   "cell_type": "code",
   "execution_count": 8,
   "metadata": {
    "collapsed": true
   },
   "outputs": [],
   "source": [
    "new_data.drop(['date_1','Payment_one'], axis=1, inplace =True)\n",
    "new_data.drop(['Mortgage','Mortgagetype','creditscore1','type','Id'], axis=1, inplace=True)"
   ]
  },
  {
   "cell_type": "code",
   "execution_count": 9,
   "metadata": {
    "collapsed": true
   },
   "outputs": [],
   "source": [
    "def getdummies(data):\n",
    "    col = data.columns[data.isnull().any()]\n",
    "    new_col = data[col]\n",
    "    \n",
    "    \n",
    "    data.drop(new_col.columns, axis=1, inplace=True)\n",
    "    objecttype = data.select_dtypes(include=['object'])\n",
    "    cols = data.drop(objecttype.columns,axis=1)\n",
    "    \n",
    "    newdata = pd.DataFrame()\n",
    "    for i in objecttype.columns:\n",
    "        temp = pd.get_dummies(objecttype[i],drop_first=True)\n",
    "        newdata = pd.concat([newdata,temp],axis=1)\n",
    "        \n",
    "    data = pd.concat([cols, newdata, new_col],axis=1).reset_index(drop=True)\n",
    "    return data"
   ]
  },
  {
   "cell_type": "code",
   "execution_count": 10,
   "metadata": {
    "collapsed": true
   },
   "outputs": [],
   "source": [
    "def deleteemptyrow(data):\n",
    "    col = data.columns[data.isnull().any()]\n",
    "    cnt = 0\n",
    "    print len(col)\n",
    "    for name in col:\n",
    "        print cnt\n",
    "        cnt += 1\n",
    "        \n",
    "        data = data[~data[name].isnull()]\n",
    "    return data"
   ]
  },
  {
   "cell_type": "code",
   "execution_count": 11,
   "metadata": {
    "collapsed": true
   },
   "outputs": [],
   "source": [
    "def fillnan(data):\n",
    "    columns = data.columns[data.isnull().any()]\n",
    "    for name in columns:\n",
    "        y = data.loc[data[name].notnull(),name].values\n",
    "        x = data.loc[data[name].notnull()].drop(columns,axis=1).values\n",
    "        x_test = data.loc[data[name].isnull()].drop(columns,axis=1).values\n",
    "        \n",
    "        if data[name].dtypes == 'object':\n",
    "            model = RandomForestClassifier(n_estimators=400, max_depth=3)\n",
    "            model.fit(x,y)\n",
    "            data.loc[data[name].isnull(), name] = model.predict(x_test)\n",
    "        else:\n",
    "            model = RandomForestRegressor(n_estimators=400,max_depth=3)\n",
    "            model.fit(x,y)\n",
    "            data.loc[data[name].isnull(),name] = model.predict(x_test)\n",
    "    return data\n",
    "        "
   ]
  },
  {
   "cell_type": "code",
   "execution_count": 12,
   "metadata": {},
   "outputs": [],
   "source": [
    "new_data = getdummies(new_data)"
   ]
  },
  {
   "cell_type": "code",
   "execution_count": 13,
   "metadata": {},
   "outputs": [
    {
     "name": "stdout",
     "output_type": "stream",
     "text": [
      "        IntRate  UnpaidPrinciple  LoanDur  No_units  address  closureDate  C  \\\n",
      "0         8.000            75000      360         1      173            0  0   \n",
      "1         7.875            55000      180         1      208            0  0   \n",
      "2         7.750           123000      360         1      630            0  1   \n",
      "3         8.500            51000      360         1      316            0  0   \n",
      "4         8.750           242000      360         1      335            0  1   \n",
      "5         8.250           240000      360         1      483            0  1   \n",
      "6         7.500            52000      180         1      347            0  1   \n",
      "7         7.625           225000      360         1      980            0  0   \n",
      "8         8.000           120000      360         1       63            0  1   \n",
      "9         8.000           130000      360         1      300            0  0   \n",
      "10        8.375           107000      360         1      633            0  1   \n",
      "11        8.000            37000      180         1      286            0  0   \n",
      "12        7.875            60000      360         1      346            0  0   \n",
      "13        8.125           106000      360         1      334            0  0   \n",
      "14        8.000            60000      360         1      491            0  0   \n",
      "15        7.750           135000      360         1       70            0  0   \n",
      "16        7.750           153000      360         1      977            0  0   \n",
      "17        8.250           137000      360         1      450            0  0   \n",
      "18        8.750           107000      360         1      917            0  1   \n",
      "19        7.750            95000      360         1      871            0  0   \n",
      "20        9.250            55000      360         1      451            0  0   \n",
      "21        8.500            72000      360         1      330            0  0   \n",
      "22        8.375           175000      360         1      812            0  0   \n",
      "23        8.250           202000      360         1      442            0  0   \n",
      "24        7.875            95000      360         1      300            0  0   \n",
      "25        7.750           152000      360         1      891            0  1   \n",
      "26        8.000            84000      360         1      462            0  0   \n",
      "27        8.500            41000      360         1      770            0  0   \n",
      "28        7.750           131000      360         1      912            0  0   \n",
      "29        7.250            50000      180         1      959            0  0   \n",
      "...         ...              ...      ...       ...      ...          ... ..   \n",
      "246833    7.750           253000      360         1      920            0  0   \n",
      "246834    8.250            69000      360         1      379            0  0   \n",
      "246835    7.250            60000      180         1      283            0  1   \n",
      "246836    8.000            67000      360         1      306            0  0   \n",
      "246837    7.750           140000      360         1      815            0  1   \n",
      "246838    8.250            72000      240         1       40            0  0   \n",
      "246839    8.250           219000      360         1      832            0  1   \n",
      "246840    8.125            24000      360         1      330            0  0   \n",
      "246841    7.875            47000      360         1      218            0  0   \n",
      "246842    8.500           160000      360         1      852            0  1   \n",
      "246843    8.500            43000      360         1      461            0  0   \n",
      "246844    7.750           128000      360         1      476            0  0   \n",
      "246845    8.000           253000      360         1      201            0  0   \n",
      "246846    8.500            52000      360         1      785            0  0   \n",
      "246847    8.125           170000      360         1      907            0  1   \n",
      "246848    8.500           124000      360         1      750            0  1   \n",
      "246849    7.875            56000      180         1      482            1  0   \n",
      "246850    7.375           200000      360         1      160            0  0   \n",
      "246851    7.875           216000      360         1      902            0  1   \n",
      "246852    8.250           114000      180         1      606            0  0   \n",
      "246853    7.875           124000      360         1      334            0  0   \n",
      "246854    7.875           110000      360         1      440            0  0   \n",
      "246855    7.750           147000      360         1      800            0  0   \n",
      "246856    8.500           154000      360         1      554            0  1   \n",
      "246857    8.000           253000      360         1      606            0  0   \n",
      "246858    7.875            93000      360         1      760            0  0   \n",
      "246859    7.875           184000      360         1      378            0  0   \n",
      "246860    7.375            60000      360         1      300            0  0   \n",
      "246861    8.625            50000      360         2      114            0  0   \n",
      "246862    7.750            70000      180         1      232            0  0   \n",
      "\n",
      "        R  BANK OF AMERICA, N.A.  BISHOPS GATE RESIDENTIAL MORTGAGE TRUST  \\\n",
      "0       1                      0                                        0   \n",
      "1       0                      0                                        0   \n",
      "2       0                      0                                        0   \n",
      "3       1                      0                                        0   \n",
      "4       0                      0                                        0   \n",
      "5       0                      0                                        0   \n",
      "6       0                      0                                        0   \n",
      "7       1                      0                                        0   \n",
      "8       0                      0                                        0   \n",
      "9       1                      0                                        0   \n",
      "10      0                      0                                        0   \n",
      "11      1                      0                                        0   \n",
      "12      1                      0                                        0   \n",
      "13      1                      0                                        0   \n",
      "14      1                      0                                        0   \n",
      "15      1                      0                                        0   \n",
      "16      0                      0                                        0   \n",
      "17      0                      0                                        0   \n",
      "18      0                      0                                        0   \n",
      "19      1                      0                                        0   \n",
      "20      0                      0                                        0   \n",
      "21      0                      0                                        0   \n",
      "22      1                      0                                        0   \n",
      "23      1                      0                                        0   \n",
      "24      1                      0                                        0   \n",
      "25      0                      0                                        0   \n",
      "26      1                      0                                        0   \n",
      "27      1                      1                                        0   \n",
      "28      1                      0                                        0   \n",
      "29      1                      0                                        0   \n",
      "...    ..                    ...                                      ...   \n",
      "246833  0                      0                                        0   \n",
      "246834  1                      1                                        0   \n",
      "246835  0                      0                                        0   \n",
      "246836  1                      0                                        0   \n",
      "246837  0                      1                                        0   \n",
      "246838  1                      0                                        0   \n",
      "246839  0                      0                                        0   \n",
      "246840  1                      0                                        0   \n",
      "246841  0                      0                                        0   \n",
      "246842  0                      0                                        0   \n",
      "246843  1                      0                                        0   \n",
      "246844  1                      0                                        0   \n",
      "246845  1                      0                                        1   \n",
      "246846  1                      0                                        0   \n",
      "246847  0                      1                                        0   \n",
      "246848  0                      0                                        0   \n",
      "246849  0                      0                                        0   \n",
      "246850  0                      0                                        0   \n",
      "246851  0                      1                                        0   \n",
      "246852  0                      0                                        0   \n",
      "246853  1                      0                                        0   \n",
      "246854  0                      0                                        0   \n",
      "246855  1                      0                                        0   \n",
      "246856  0                      0                                        0   \n",
      "246857  1                      0                                        0   \n",
      "246858  1                      0                                        0   \n",
      "246859  1                      0                                        0   \n",
      "246860  1                      0                                        1   \n",
      "246861  1                      0                                        0   \n",
      "246862  0                      0                                        0   \n",
      "\n",
      "            ...       WA  WI  WV  WY  Y   LTV  CLTV  Borrow   DTI  \\\n",
      "0           ...        0   0   0   0  0  79.0   NaN     1.0  62.0   \n",
      "1           ...        0   0   0   0  0  69.0   NaN     1.0  12.0   \n",
      "2           ...        0   0   0   0  0  80.0   NaN     1.0  28.0   \n",
      "3           ...        0   0   0   0  0  95.0   NaN     1.0  27.0   \n",
      "4           ...        0   0   0   0  0  95.0   NaN     1.0  47.0   \n",
      "5           ...        0   0   0   0  0  77.0   NaN     2.0  19.0   \n",
      "6           ...        0   0   0   0  0  95.0   NaN     NaN   NaN   \n",
      "7           ...        1   0   0   0  0  64.0   NaN     2.0  21.0   \n",
      "8           ...        0   0   0   0  0  75.0   NaN     2.0  36.0   \n",
      "9           ...        0   0   0   0  0  61.0   NaN     2.0  34.0   \n",
      "10          ...        0   0   0   0  0  95.0   NaN     1.0  37.0   \n",
      "11          ...        0   0   0   0  0  63.0   NaN     1.0  25.0   \n",
      "12          ...        0   0   0   0  0  74.0   NaN     2.0  17.0   \n",
      "13          ...        0   0   0   0  0  80.0   NaN     1.0  24.0   \n",
      "14          ...        0   0   0   0  0  97.0   NaN     1.0  39.0   \n",
      "15          ...        0   0   0   0  0  73.0   NaN     2.0  29.0   \n",
      "16          ...        0   0   0   0  0  80.0   NaN     1.0  45.0   \n",
      "17          ...        0   0   0   0  0  80.0   NaN     1.0  34.0   \n",
      "18          ...        0   0   0   0  0  95.0   NaN     2.0  34.0   \n",
      "19          ...        0   0   0   0  0  63.0   NaN     1.0  35.0   \n",
      "20          ...        0   0   0   0  0  80.0   NaN     2.0  35.0   \n",
      "21          ...        0   0   0   0  0  95.0   NaN     1.0  40.0   \n",
      "22          ...        0   0   0   0  0  80.0   NaN     2.0  48.0   \n",
      "23          ...        0   0   0   0  0  80.0   NaN     2.0  41.0   \n",
      "24          ...        0   0   0   0  0  47.0   NaN     2.0  49.0   \n",
      "25          ...        0   0   0   0  0  85.0   NaN     1.0  41.0   \n",
      "26          ...        0   0   0   0  0  75.0   NaN     2.0  57.0   \n",
      "27          ...        0   0   0   0  0  80.0   NaN     2.0  56.0   \n",
      "28          ...        0   0   0   0  0  73.0   NaN     2.0  20.0   \n",
      "29          ...        0   0   0   0  0  77.0   NaN     1.0   9.0   \n",
      "...         ...       ..  ..  ..  .. ..   ...   ...     ...   ...   \n",
      "246833      ...        0   0   0   0  0  72.0   NaN     2.0  53.0   \n",
      "246834      ...        0   0   0   0  0  75.0   NaN     2.0  28.0   \n",
      "246835      ...        0   0   0   0  0  75.0   NaN     2.0  15.0   \n",
      "246836      ...        0   0   0   0  0  50.0   NaN     1.0  36.0   \n",
      "246837      ...        0   0   0   0  0  80.0   NaN     2.0  52.0   \n",
      "246838      ...        0   0   0   0  0  87.0   NaN     1.0  57.0   \n",
      "246839      ...        0   0   0   0  0  88.0   NaN     2.0  42.0   \n",
      "246840      ...        0   0   0   0  0  97.0   NaN     1.0  21.0   \n",
      "246841      ...        0   0   0   0  0  80.0   NaN     1.0  40.0   \n",
      "246842      ...        0   0   0   0  0  80.0   NaN     2.0   NaN   \n",
      "246843      ...        0   0   0   0  0  90.0   NaN     1.0  29.0   \n",
      "246844      ...        0   0   0   0  0  75.0   NaN     2.0  31.0   \n",
      "246845      ...        0   0   0   0  1  94.0   NaN     1.0  40.0   \n",
      "246846      ...        0   0   0   0  0  95.0   NaN     1.0  18.0   \n",
      "246847      ...        0   0   0   0  0  67.0   NaN     2.0  35.0   \n",
      "246848      ...        0   0   0   0  0  85.0   NaN     2.0  26.0   \n",
      "246849      ...        0   0   0   0  0  52.0   NaN     1.0  36.0   \n",
      "246850      ...        0   0   0   0  0  67.0   NaN     2.0  34.0   \n",
      "246851      ...        0   0   0   0  0  80.0   NaN     1.0  35.0   \n",
      "246852      ...        0   0   0   0  0  90.0   NaN     1.0  14.0   \n",
      "246853      ...        0   0   0   0  0  80.0   NaN     2.0  25.0   \n",
      "246854      ...        0   0   0   0  0  62.0   NaN     1.0  38.0   \n",
      "246855      ...        0   0   0   0  0  80.0   NaN     2.0  25.0   \n",
      "246856      ...        0   0   0   0  0  80.0  90.0     1.0  17.0   \n",
      "246857      ...        0   0   0   0  0  89.0   NaN     2.0  31.0   \n",
      "246858      ...        0   0   0   0  0  68.0   NaN     2.0  47.0   \n",
      "246859      ...        0   0   0   0  0  80.0   NaN     2.0  35.0   \n",
      "246860      ...        0   0   0   0  0  71.0   NaN     1.0   8.0   \n",
      "246861      ...        0   0   0   0  0  22.0   NaN     1.0   NaN   \n",
      "246862      ...        0   0   0   0  0  78.0   NaN     1.0  20.0   \n",
      "\n",
      "        credit_score  \n",
      "0              763.0  \n",
      "1              633.0  \n",
      "2              750.0  \n",
      "3              686.0  \n",
      "4              706.0  \n",
      "5              737.0  \n",
      "6                NaN  \n",
      "7              793.0  \n",
      "8              750.0  \n",
      "9              646.0  \n",
      "10             676.0  \n",
      "11             518.0  \n",
      "12             781.0  \n",
      "13             646.0  \n",
      "14             603.0  \n",
      "15             749.0  \n",
      "16             761.0  \n",
      "17             747.0  \n",
      "18             695.0  \n",
      "19             802.0  \n",
      "20             696.0  \n",
      "21             721.0  \n",
      "22             772.0  \n",
      "23             706.0  \n",
      "24             799.0  \n",
      "25             604.0  \n",
      "26             676.0  \n",
      "27             770.0  \n",
      "28             715.0  \n",
      "29             751.0  \n",
      "...              ...  \n",
      "246833         733.0  \n",
      "246834         796.0  \n",
      "246835         725.0  \n",
      "246836         751.0  \n",
      "246837         680.0  \n",
      "246838         592.0  \n",
      "246839         666.0  \n",
      "246840         711.0  \n",
      "246841         768.0  \n",
      "246842         731.0  \n",
      "246843         740.0  \n",
      "246844         722.0  \n",
      "246845         735.0  \n",
      "246846         739.0  \n",
      "246847         703.0  \n",
      "246848         598.0  \n",
      "246849         731.0  \n",
      "246850         793.0  \n",
      "246851         708.0  \n",
      "246852         551.0  \n",
      "246853         789.0  \n",
      "246854         698.0  \n",
      "246855         762.0  \n",
      "246856         709.0  \n",
      "246857         722.0  \n",
      "246858         677.0  \n",
      "246859         667.0  \n",
      "246860         766.0  \n",
      "246861         704.0  \n",
      "246862         742.0  \n",
      "\n",
      "[246863 rows x 98 columns]\n"
     ]
    }
   ],
   "source": [
    "print new_data"
   ]
  },
  {
   "cell_type": "code",
   "execution_count": 14,
   "metadata": {
    "collapsed": true
   },
   "outputs": [],
   "source": [
    "new_data.drop(['LTV','CLTV','Borrow','DTI'],axis=1,inplace=True)"
   ]
  },
  {
   "cell_type": "code",
   "execution_count": 15,
   "metadata": {},
   "outputs": [
    {
     "name": "stdout",
     "output_type": "stream",
     "text": [
      "1\n",
      "0\n"
     ]
    }
   ],
   "source": [
    "new_data = deleteemptyrow(new_data)"
   ]
  },
  {
   "cell_type": "code",
   "execution_count": 16,
   "metadata": {
    "collapsed": true
   },
   "outputs": [],
   "source": [
    "from imblearn.combine import SMOTEENN\n",
    "sm = SMOTEENN()"
   ]
  },
  {
   "cell_type": "code",
   "execution_count": 17,
   "metadata": {
    "collapsed": true
   },
   "outputs": [],
   "source": [
    "y = new_data['closureDate'].values\n",
    "X = new_data.drop(['closureDate'],axis = 1).values\n",
    "x_sampled,y_sampled = sm.fit_sample(X,y)\n"
   ]
  },
  {
   "cell_type": "code",
   "execution_count": 18,
   "metadata": {
    "collapsed": true
   },
   "outputs": [],
   "source": [
    "def random_forest_classifier(features,classification):\n",
    "    features_train, features_test, classification_train, classification_test = train_test_split(features,classification,test_size=0.25,random_state=0)\n",
    "    classifier = RandomForestClassifier(n_estimators=200)\n",
    "\n",
    "    classifier = classifier.fit(features_train,classification_train)\n",
    "    class_prediction = classifier.predict(features_test)\n",
    "\n",
    "    x = list(range(len(class_prediction)))\n",
    "\n",
    "    print class_prediction\n",
    "    plt.scatter(x,class_prediction,color='red')\n",
    "\n",
    "    plt.plot(x,classification_test,color='blue')\n",
    "\n",
    "\n",
    "    plt.xticks(())\n",
    "    plt.yticks(())\n",
    "    plt.show()\n",
    "\n",
    "\n",
    "    print(\"error mse\")\n",
    "    print(mean_squared_error(classification_test,class_prediction))\n",
    "    print(\"variance score: 1 is perfect prediction\")\n",
    "    print(r2_score(classification_test,class_prediction))\n",
    "\n",
    "    print(classification_report(classification_test,class_prediction))"
   ]
  },
  {
   "cell_type": "code",
   "execution_count": 19,
   "metadata": {
    "collapsed": true
   },
   "outputs": [],
   "source": [
    "from sklearn.metrics import mean_squared_error, r2_score\n",
    "import sklearn as sk\n",
    "import matplotlib.pyplot as plt"
   ]
  },
  {
   "cell_type": "code",
   "execution_count": 20,
   "metadata": {},
   "outputs": [
    {
     "name": "stdout",
     "output_type": "stream",
     "text": [
      "[0 0 1 ..., 1 1 0]\n"
     ]
    },
    {
     "data": {
      "image/png": "[encoded data removed]",
      "text/plain": [
       "<matplotlib.figure.Figure at 0xcb74828>"
      ]
     },
     "metadata": {},
     "output_type": "display_data"
    },
    {
     "name": "stdout",
     "output_type": "stream",
     "text": [
      "error mse\n",
      "0.00739649448542\n",
      "variance score: 1 is perfect prediction\n",
      "0.970406025753\n",
      "             precision    recall  f1-score   support\n",
      "\n",
      "          0       0.99      1.00      0.99     48736\n",
      "          1       1.00      0.99      0.99     50365\n",
      "\n",
      "avg / total       0.99      0.99      0.99     99101\n",
      "\n"
     ]
    }
   ],
   "source": [
    "random_forest_classifier(x_sampled,y_sampled)"
   ]
  },
  {
   "cell_type": "code",
   "execution_count": null,
   "metadata": {
    "collapsed": true
   },
   "outputs": [],
   "source": [
    "from sklearn import svm\n",
    "def svm_classifier(features,classification):\n",
    "    features_train, features_test, classification_train, classification_test = train_test_split(features,classification,test_size=0.25,random_state=0)\n",
    "    classifier = svm.SVC(kernel='linear',C=1.0,gamma=1)\n",
    "\n",
    "    classifier = classifier.fit(features_train,classification_train)\n",
    "#     print(classifier.score(features_train,classification_train))\n",
    "    class_prediction = classifier.predict(features_test)\n",
    "\n",
    "    x = list(range(len(class_prediction)))\n",
    "\n",
    "    print classification_test\n",
    "    print class_prediction\n",
    "    plt.scatter(x,class_prediction,color='red')\n",
    "\n",
    "    plt.plot(x,classification_test,color='blue')\n",
    "\n",
    "\n",
    "    plt.xticks(())\n",
    "    plt.yticks(())\n",
    "    plt.show()\n",
    "\n",
    "\n",
    "    print(\"error mse\")\n",
    "    print(mean_squared_error(classification_test,class_prediction))\n",
    "    print(\"variance score: 1 is perfect prediction\")\n",
    "    print(r2_score(classification_test,class_prediction))\n",
    "\n",
    "    print(classification_report(classification_test,class_prediction))\n",
    "\n",
    "# random_forest_classifier(features,classification)\n",
    "\n",
    "# logistic_regression(features,classification)"
   ]
  },
  {
   "cell_type": "code",
   "execution_count": null,
   "metadata": {
    "collapsed": true
   },
   "outputs": [],
   "source": [
    "svm_classifier(x_sampled,y_sampled)"
   ]
  },
  {
   "cell_type": "code",
   "execution_count": null,
   "metadata": {
    "collapsed": true
   },
   "outputs": [],
   "source": []
  }
 ],
 "metadata": {
  "kernelspec": {
   "display_name": "Python 2",
   "language": "python",
   "name": "python2"
  },
  "language_info": {
   "codemirror_mode": {
    "name": "ipython",
    "version": 2
   },
   "file_extension": ".py",
   "mimetype": "text/x-python",
   "name": "python",
   "nbconvert_exporter": "python",
   "pygments_lexer": "ipython2",
   "version": "2.7.14"
  }
 },
 "nbformat": 4,
 "nbformat_minor": 2
}
